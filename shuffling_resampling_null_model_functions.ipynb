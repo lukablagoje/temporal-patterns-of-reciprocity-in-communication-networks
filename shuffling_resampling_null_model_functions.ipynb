{
 "cells": [
  {
   "cell_type": "markdown",
   "id": "a3cc8d60",
   "metadata": {},
   "source": [
    "# Shuffling (resampling) functions for the temporal (timestamped) networks (graphs)\n",
    "There are three conceptually different null models correspodning to these shuffling functions - network, link and node level null models. For each, one aspect of the structure is fixed, while the other aspects are randomized.\n",
    "\n",
    "For example, we might keep the same interactions, but randomize the times at which they occur."
   ]
  },
  {
   "cell_type": "code",
   "execution_count": 44,
   "id": "80b0d75d",
   "metadata": {},
   "outputs": [],
   "source": [
    "#Importing libraries\n",
    "import random\n",
    "import numpy as np\n",
    "import pandas as pd\n",
    "import collections"
   ]
  },
  {
   "cell_type": "markdown",
   "id": "f314272c",
   "metadata": {},
   "source": [
    "# Resampling (shuffling) the entire edgelist"
   ]
  },
  {
   "cell_type": "code",
   "execution_count": 24,
   "id": "e1e96b7c",
   "metadata": {},
   "outputs": [],
   "source": [
    "def shuffle_timestamps_edgelist(edgelist, random_state):\n",
    "    \"\"\"\n",
    "    Shuffles the timestamps of an edge list.\n",
    "    \n",
    "    Parameters:\n",
    "    - edgelist (pd.DataFrame): The edge list with columns including 't_second' for timestamps.\n",
    "    - random_state (int): A seed for the random number generator to ensure reproducibility.\n",
    "    \n",
    "    Returns:\n",
    "    - pd.DataFrame: The shuffled edge list.\n",
    "    \"\"\"\n",
    "    edgelist = edgelist.copy()\n",
    "    edgelist['t_second'] = edgelist['t_second'].sample(frac=1, random_state=random_state + 5000).values\n",
    "    edgelist.reset_index(inplace=True, drop=True)\n",
    "    return edgelist"
   ]
  },
  {
   "cell_type": "code",
   "execution_count": 25,
   "id": "3202836f",
   "metadata": {},
   "outputs": [
    {
     "data": {
      "text/html": [
       "<div>\n",
       "<style scoped>\n",
       "    .dataframe tbody tr th:only-of-type {\n",
       "        vertical-align: middle;\n",
       "    }\n",
       "\n",
       "    .dataframe tbody tr th {\n",
       "        vertical-align: top;\n",
       "    }\n",
       "\n",
       "    .dataframe thead th {\n",
       "        text-align: right;\n",
       "    }\n",
       "</style>\n",
       "<table border=\"1\" class=\"dataframe\">\n",
       "  <thead>\n",
       "    <tr style=\"text-align: right;\">\n",
       "      <th></th>\n",
       "      <th>from</th>\n",
       "      <th>to</th>\n",
       "      <th>t_second</th>\n",
       "    </tr>\n",
       "  </thead>\n",
       "  <tbody>\n",
       "    <tr>\n",
       "      <th>0</th>\n",
       "      <td>1</td>\n",
       "      <td>3</td>\n",
       "      <td>200</td>\n",
       "    </tr>\n",
       "    <tr>\n",
       "      <th>1</th>\n",
       "      <td>2</td>\n",
       "      <td>4</td>\n",
       "      <td>100</td>\n",
       "    </tr>\n",
       "  </tbody>\n",
       "</table>\n",
       "</div>"
      ],
      "text/plain": [
       "   from  to  t_second\n",
       "0     1   3       200\n",
       "1     2   4       100"
      ]
     },
     "execution_count": 25,
     "metadata": {},
     "output_type": "execute_result"
    }
   ],
   "source": [
    "edgelist = pd.DataFrame({'from': [1, 2], 'to': [3, 4], 't_second': [100, 200]})\n",
    "shuffle_timestamps_edgelist(edgelist, random_state=42)"
   ]
  },
  {
   "cell_type": "code",
   "execution_count": 30,
   "id": "68038afa",
   "metadata": {},
   "outputs": [],
   "source": [
    "def rewire_shuffle_timestamps_edgelist(edgelist, random_state):\n",
    "    \"\"\"\n",
    "    Shuffles 'from', 'to' nodes, and timestamps in the edgelist to simulate a rewiring of the edges.\n",
    "    \n",
    "    Parameters:\n",
    "    - edgelist (pd.DataFrame): The edge list with 'from', 'to', and 't_second' columns.\n",
    "    - random_state (int): Seed for randomness to ensure reproducibility.\n",
    "    \n",
    "    Returns:\n",
    "    - pd.DataFrame: The edge list with shuffled nodes and timestamps.\n",
    "    \n",
    "    \"\"\"\n",
    "    edgelist = edgelist.copy()\n",
    "    edgelist['from'] = edgelist['from'].sample(frac=1, random_state=random_state).values\n",
    "    edgelist['to'] = edgelist['to'].sample(frac=1, random_state=random_state + 2000).values\n",
    "    edgelist['t_second'] = edgelist['t_second'].sample(frac=1, random_state=random_state + 3000).values\n",
    "    edgelist.reset_index(inplace=True, drop=True)\n",
    "    return edgelist\n"
   ]
  },
  {
   "cell_type": "code",
   "execution_count": 29,
   "id": "56dd7581",
   "metadata": {},
   "outputs": [
    {
     "data": {
      "text/html": [
       "<div>\n",
       "<style scoped>\n",
       "    .dataframe tbody tr th:only-of-type {\n",
       "        vertical-align: middle;\n",
       "    }\n",
       "\n",
       "    .dataframe tbody tr th {\n",
       "        vertical-align: top;\n",
       "    }\n",
       "\n",
       "    .dataframe thead th {\n",
       "        text-align: right;\n",
       "    }\n",
       "</style>\n",
       "<table border=\"1\" class=\"dataframe\">\n",
       "  <thead>\n",
       "    <tr style=\"text-align: right;\">\n",
       "      <th></th>\n",
       "      <th>from</th>\n",
       "      <th>to</th>\n",
       "      <th>t_second</th>\n",
       "    </tr>\n",
       "  </thead>\n",
       "  <tbody>\n",
       "    <tr>\n",
       "      <th>0</th>\n",
       "      <td>2</td>\n",
       "      <td>4</td>\n",
       "      <td>200</td>\n",
       "    </tr>\n",
       "    <tr>\n",
       "      <th>1</th>\n",
       "      <td>1</td>\n",
       "      <td>3</td>\n",
       "      <td>100</td>\n",
       "    </tr>\n",
       "  </tbody>\n",
       "</table>\n",
       "</div>"
      ],
      "text/plain": [
       "   from  to  t_second\n",
       "0     2   4       200\n",
       "1     1   3       100"
      ]
     },
     "execution_count": 29,
     "metadata": {},
     "output_type": "execute_result"
    }
   ],
   "source": [
    "edgelist = pd.DataFrame({'from': [1, 2], 'to': [3, 4], 't_second': [100, 200]})\n",
    "rewire_shuffle_timestamps_edgelist(edgelist, random_state=42)"
   ]
  },
  {
   "cell_type": "markdown",
   "id": "015153b1",
   "metadata": {},
   "source": [
    "# Helper Functions"
   ]
  },
  {
   "cell_type": "code",
   "execution_count": 37,
   "id": "4ed0999c",
   "metadata": {},
   "outputs": [],
   "source": [
    "def self_loops_edgelist(df_edges):\n",
    "    \"\"\"\n",
    "    Identifies self-loops in the edge list.\n",
    "    \n",
    "    Parameters:\n",
    "    - df_edges (pd.DataFrame): The edge list with 'from' and 'to' columns.\n",
    "    \n",
    "    Returns:\n",
    "    - list: A list of pairs representing self-loops.\n",
    "    \n",
    "        \"\"\"\n",
    "    return [[pair[0], pair[1]] for pair in zip(df_edges[\"from\"], df_edges[\"to\"]) if pair[0] == pair[1]]"
   ]
  },
  {
   "cell_type": "code",
   "execution_count": 6,
   "id": "c3dedaea",
   "metadata": {},
   "outputs": [
    {
     "name": "stdout",
     "output_type": "stream",
     "text": [
      "The identified self-loops are [[1, 1], [2, 2]]\n"
     ]
    }
   ],
   "source": [
    "df_edges = pd.DataFrame({'from': [1, 2, 3], 'to': [1, 2, 4]})\n",
    "self_loops = self_loops_edgelist(df_edges)\n",
    "print(\"The identified self-loops are\",self_loops)"
   ]
  },
  {
   "cell_type": "code",
   "execution_count": 11,
   "id": "e067d2d2",
   "metadata": {},
   "outputs": [],
   "source": [
    "def nodes_unique_pairs(df_edges):\n",
    "    \"\"\"\n",
    "    Identifies unique node pairs and shuffles nodes in the edge list.\n",
    "    \n",
    "    Parameters:\n",
    "    - df_edges (pd.DataFrame): The edge list with 'from' and 'to' columns.\n",
    "    \n",
    "    Returns:\n",
    "    - tuple: A tuple containing a list of shuffled nodes and a list of unique node pairs.\n",
    "    \n",
    "    \"\"\"\n",
    "    link_pairs = list(zip(df_edges[\"from\"], df_edges[\"to\"]))\n",
    "    nodes = pd.unique(list(df_edges['to']) + list(df_edges['from']))\n",
    "    np.random.shuffle(nodes)\n",
    "    unique_pairs = [sorted(pair) for pair in set(tuple(pair) for pair in link_pairs)]\n",
    "    return nodes, unique_pairs"
   ]
  },
  {
   "cell_type": "code",
   "execution_count": 12,
   "id": "f722d87f",
   "metadata": {},
   "outputs": [
    {
     "name": "stdout",
     "output_type": "stream",
     "text": [
      "Between the nodes [3 1 2] these are the edges unique pairs (edges) that exist [[2, 3], [1, 3], [1, 2]]\n"
     ]
    }
   ],
   "source": [
    "df_edges = pd.DataFrame({'from': [1, 2, 3], 'to': [3, 1, 2]})\n",
    "nodes, unique_pairs = nodes_unique_pairs(df_edges)\n",
    "print('Between the nodes',nodes,'these are the edges unique pairs (edges) that exist',unique_pairs)"
   ]
  },
  {
   "cell_type": "markdown",
   "id": "5cdc71d8",
   "metadata": {},
   "source": [
    "# Node-based shuffling (resampling)"
   ]
  },
  {
   "cell_type": "code",
   "execution_count": 29,
   "id": "5d115d37",
   "metadata": {},
   "outputs": [],
   "source": [
    "def create_node_edgelist(edgelist, node_id):\n",
    "    \"\"\"\n",
    "    Extracts an edge list for a specific node.\n",
    "    \n",
    "    Parameters:\n",
    "    - edgelist (pd.DataFrame): The complete edge list dataframe with 'from' and 'to' columns.\n",
    "    - node_id: The identifier of the node for which to create an edge list.\n",
    "    \n",
    "    Returns:\n",
    "    - pd.DataFrame: A dataframe containing only the edges involving the specified node.\n",
    "\n",
    "    \"\"\"\n",
    "    edgelist = edgelist.copy()\n",
    "    node_edgelist = edgelist[(edgelist['from'].astype(str) == str(node_id)) | (edgelist['to'].astype(str) == str(node_id))]\n",
    "    return node_edgelist.astype(str)\n"
   ]
  },
  {
   "cell_type": "code",
   "execution_count": 30,
   "id": "5d0b604b",
   "metadata": {},
   "outputs": [
    {
     "data": {
      "text/html": [
       "<div>\n",
       "<style scoped>\n",
       "    .dataframe tbody tr th:only-of-type {\n",
       "        vertical-align: middle;\n",
       "    }\n",
       "\n",
       "    .dataframe tbody tr th {\n",
       "        vertical-align: top;\n",
       "    }\n",
       "\n",
       "    .dataframe thead th {\n",
       "        text-align: right;\n",
       "    }\n",
       "</style>\n",
       "<table border=\"1\" class=\"dataframe\">\n",
       "  <thead>\n",
       "    <tr style=\"text-align: right;\">\n",
       "      <th></th>\n",
       "      <th>from</th>\n",
       "      <th>to</th>\n",
       "      <th>t_second</th>\n",
       "    </tr>\n",
       "  </thead>\n",
       "  <tbody>\n",
       "    <tr>\n",
       "      <th>1</th>\n",
       "      <td>2</td>\n",
       "      <td>5</td>\n",
       "      <td>200</td>\n",
       "    </tr>\n",
       "  </tbody>\n",
       "</table>\n",
       "</div>"
      ],
      "text/plain": [
       "  from to t_second\n",
       "1    2  5      200"
      ]
     },
     "execution_count": 30,
     "metadata": {},
     "output_type": "execute_result"
    }
   ],
   "source": [
    "edgelist = pd.DataFrame({'from': [1, 2, 3], 'to': [4, 5, 6], 't_second': [100, 200, 300]})\n",
    "create_node_edgelist(edgelist, 2)"
   ]
  },
  {
   "cell_type": "code",
   "execution_count": 31,
   "id": "284c9fc7",
   "metadata": {},
   "outputs": [],
   "source": [
    "def shuffle_node_edgelist(node_edgelist, random_state):\n",
    "    \"\"\"\n",
    "    Shuffles the timestamps of edges involving a specific node.\n",
    "    \n",
    "    Parameters:\n",
    "    - node_edgelist (pd.DataFrame): The edge list of a specific node.\n",
    "    - random_state (int): Seed for randomness to ensure reproducibility.\n",
    "    \n",
    "    Returns:\n",
    "    - pd.DataFrame: The edge list with shuffled timestamps.\n",
    "    \n",
    "    Example:\n",
    "    >>> node_edgelist = pd.DataFrame({'from': ['2', '2'], 'to': ['3', '4'], 't_second': ['100', '200']})\n",
    "    >>> shuffle_node_edgelist(node_edgelist, random_state=42)\n",
    "    \"\"\"\n",
    "    node_edgelist = node_edgelist.copy()\n",
    "    node_edgelist['t_second'] = node_edgelist['t_second'].sample(frac=1, random_state=random_state + 7000).values\n",
    "    return node_edgelist\n",
    "\n"
   ]
  },
  {
   "cell_type": "code",
   "execution_count": 32,
   "id": "730495b1",
   "metadata": {},
   "outputs": [
    {
     "data": {
      "text/html": [
       "<div>\n",
       "<style scoped>\n",
       "    .dataframe tbody tr th:only-of-type {\n",
       "        vertical-align: middle;\n",
       "    }\n",
       "\n",
       "    .dataframe tbody tr th {\n",
       "        vertical-align: top;\n",
       "    }\n",
       "\n",
       "    .dataframe thead th {\n",
       "        text-align: right;\n",
       "    }\n",
       "</style>\n",
       "<table border=\"1\" class=\"dataframe\">\n",
       "  <thead>\n",
       "    <tr style=\"text-align: right;\">\n",
       "      <th></th>\n",
       "      <th>from</th>\n",
       "      <th>to</th>\n",
       "      <th>t_second</th>\n",
       "    </tr>\n",
       "  </thead>\n",
       "  <tbody>\n",
       "    <tr>\n",
       "      <th>0</th>\n",
       "      <td>2</td>\n",
       "      <td>3</td>\n",
       "      <td>200</td>\n",
       "    </tr>\n",
       "    <tr>\n",
       "      <th>1</th>\n",
       "      <td>2</td>\n",
       "      <td>4</td>\n",
       "      <td>100</td>\n",
       "    </tr>\n",
       "  </tbody>\n",
       "</table>\n",
       "</div>"
      ],
      "text/plain": [
       "  from to t_second\n",
       "0    2  3      200\n",
       "1    2  4      100"
      ]
     },
     "execution_count": 32,
     "metadata": {},
     "output_type": "execute_result"
    }
   ],
   "source": [
    "node_edgelist = pd.DataFrame({'from': ['2', '2'], 'to': ['3', '4'], 't_second': ['100', '200']})\n",
    "shuffle_node_edgelist(node_edgelist, random_state=42)\n"
   ]
  },
  {
   "cell_type": "code",
   "execution_count": 33,
   "id": "4351e6c6",
   "metadata": {},
   "outputs": [],
   "source": [
    "def shuffle_timestamps_at_nodes(df_edges, random_state):\n",
    "    \"\"\"\n",
    "    Shuffles timestamps for all nodes in the edge list.\n",
    "    \n",
    "    Parameters:\n",
    "    - df_edges (pd.DataFrame): The complete edge list.\n",
    "    - random_state (int): Seed for randomness to ensure reproducibility.\n",
    "    \n",
    "    Returns:\n",
    "    - pd.DataFrame: The edge list with timestamps shuffled at the node level.\n",
    "    \n",
    "    Example:\n",
    "    >>> df_edges = pd.DataFrame({'from': [1, 2, 3], 'to': [3, 1, 2], 't_second': [100, 200, 300]})\n",
    "    >>> shuffle_timestamps_at_nodes(df_edges, random_state=42)\n",
    "    \"\"\"\n",
    "    df_edges = df_edges.copy()\n",
    "    nodes, unique_pairs = nodes_unique_pairs(df_edges)\n",
    "    nodes_shuffled_list_df = []\n",
    "    for node in nodes:\n",
    "        node_edgelist = create_node_edgelist(df_edges, node)\n",
    "        df_edges = df_edges.drop(node_edgelist.index)\n",
    "        node_edgelist_shuffled = shuffle_node_edgelist(node_edgelist, random_state)\n",
    "        nodes_shuffled_list_df.append(node_edgelist_shuffled)\n",
    "    node_edgelist_shuffled = pd.concat(nodes_shuffled_list_df)\n",
    "    node_edgelist_shuffled.reset_index(inplace=True, drop=True)\n",
    "    return node_edgelist_shuffled"
   ]
  },
  {
   "cell_type": "code",
   "execution_count": 34,
   "id": "84842af8",
   "metadata": {},
   "outputs": [
    {
     "data": {
      "text/html": [
       "<div>\n",
       "<style scoped>\n",
       "    .dataframe tbody tr th:only-of-type {\n",
       "        vertical-align: middle;\n",
       "    }\n",
       "\n",
       "    .dataframe tbody tr th {\n",
       "        vertical-align: top;\n",
       "    }\n",
       "\n",
       "    .dataframe thead th {\n",
       "        text-align: right;\n",
       "    }\n",
       "</style>\n",
       "<table border=\"1\" class=\"dataframe\">\n",
       "  <thead>\n",
       "    <tr style=\"text-align: right;\">\n",
       "      <th></th>\n",
       "      <th>from</th>\n",
       "      <th>to</th>\n",
       "      <th>t_second</th>\n",
       "    </tr>\n",
       "  </thead>\n",
       "  <tbody>\n",
       "    <tr>\n",
       "      <th>0</th>\n",
       "      <td>1</td>\n",
       "      <td>3</td>\n",
       "      <td>300</td>\n",
       "    </tr>\n",
       "    <tr>\n",
       "      <th>1</th>\n",
       "      <td>3</td>\n",
       "      <td>2</td>\n",
       "      <td>100</td>\n",
       "    </tr>\n",
       "    <tr>\n",
       "      <th>2</th>\n",
       "      <td>2</td>\n",
       "      <td>1</td>\n",
       "      <td>200</td>\n",
       "    </tr>\n",
       "  </tbody>\n",
       "</table>\n",
       "</div>"
      ],
      "text/plain": [
       "  from to t_second\n",
       "0    1  3      300\n",
       "1    3  2      100\n",
       "2    2  1      200"
      ]
     },
     "execution_count": 34,
     "metadata": {},
     "output_type": "execute_result"
    }
   ],
   "source": [
    "df_edges = pd.DataFrame({'from': [1, 2, 3], 'to': [3, 1, 2], 't_second': [100, 200, 300]})\n",
    "shuffle_timestamps_at_nodes(df_edges, random_state=42)"
   ]
  },
  {
   "cell_type": "code",
   "execution_count": null,
   "id": "959e8aea",
   "metadata": {},
   "outputs": [],
   "source": [
    "def rewire_shuffle_node_edgelist(node_edgelist, node_id, random_state):\n",
    "    \"\"\"\n",
    "    Rewires and shuffles timestamps for edges of a specific node.\n",
    "    \n",
    "    Parameters:\n",
    "    - node_edgelist (pd.DataFrame): Edge list for a specific node.\n",
    "    - node_id: The node identifier.\n",
    "    - random_state (int): Seed for randomness to ensure reproducibility.\n",
    "    \n",
    "    Returns:\n",
    "    - pd.DataFrame: The rewire-shuffled edge list for the specified node.\n",
    "    \"\"\"\n",
    "    node_edgelist = node_edgelist.astype(str).copy()\n",
    "    node_id = str(node_id)\n",
    "    to_list = list(node_edgelist['to'])\n",
    "    from_list = list(node_edgelist['from'])\n",
    "    local_nodes_no_central_node = list(pd.unique(to_list + from_list))\n",
    "    if node_id in local_nodes_no_central_node:\n",
    "        local_nodes_no_central_node.remove(node_id)\n",
    "    np.random.seed(random_state)\n",
    "\n",
    "\n",
    "    node_edgelist['t_second'] = node_edgelist['t_second'].sample(frac=1, random_state=random_state + 13000).values\n",
    "    node_edgelist.reset_index(inplace=True, drop=True)\n",
    "    return node_edgelist"
   ]
  },
  {
   "cell_type": "code",
   "execution_count": 28,
   "id": "dd3a7381",
   "metadata": {},
   "outputs": [
    {
     "data": {
      "text/html": [
       "<div>\n",
       "<style scoped>\n",
       "    .dataframe tbody tr th:only-of-type {\n",
       "        vertical-align: middle;\n",
       "    }\n",
       "\n",
       "    .dataframe tbody tr th {\n",
       "        vertical-align: top;\n",
       "    }\n",
       "\n",
       "    .dataframe thead th {\n",
       "        text-align: right;\n",
       "    }\n",
       "</style>\n",
       "<table border=\"1\" class=\"dataframe\">\n",
       "  <thead>\n",
       "    <tr style=\"text-align: right;\">\n",
       "      <th></th>\n",
       "      <th>from</th>\n",
       "      <th>to</th>\n",
       "      <th>t_second</th>\n",
       "    </tr>\n",
       "  </thead>\n",
       "  <tbody>\n",
       "    <tr>\n",
       "      <th>0</th>\n",
       "      <td>1</td>\n",
       "      <td>2</td>\n",
       "      <td>200</td>\n",
       "    </tr>\n",
       "    <tr>\n",
       "      <th>1</th>\n",
       "      <td>1</td>\n",
       "      <td>3</td>\n",
       "      <td>100</td>\n",
       "    </tr>\n",
       "  </tbody>\n",
       "</table>\n",
       "</div>"
      ],
      "text/plain": [
       "  from to t_second\n",
       "0    1  2      200\n",
       "1    1  3      100"
      ]
     },
     "execution_count": 28,
     "metadata": {},
     "output_type": "execute_result"
    }
   ],
   "source": [
    "node_edgelist = pd.DataFrame({'from': ['1', '1'], 'to': ['2', '3'], 't_second': ['100', '200']})\n",
    "rewire_shuffle_node_edgelist(node_edgelist, '1', random_state=42)"
   ]
  },
  {
   "cell_type": "code",
   "execution_count": null,
   "id": "830cd8c2",
   "metadata": {},
   "outputs": [],
   "source": [
    "def rewire_shuffle_timestamps_at_nodes(df_edges, random_state):\n",
    "    \"\"\"\n",
    "    Applies rewire shuffling to the entire edge list at the node level.\n",
    "    \n",
    "    Parameters:\n",
    "    - df_edges (pd.DataFrame): The complete edge list.\n",
    "    - random_state (int): Seed for randomness to ensure reproducibility.\n",
    "    \n",
    "    Returns:\n",
    "    - pd.DataFrame: The edge list after rewire shuffling at the node level.\n",
    "    \n",
    "    \"\"\"\n",
    "    df_edges = df_edges.copy()\n",
    "    nodes, unique_pairs = nodes_unique_pairs(df_edges)\n",
    "    nodes_shuffled_list_df = []\n",
    "    for node in nodes:\n",
    "        node_edgelist = create_node_edgelist(df_edges, node)\n",
    "        df_edges = df_edges.drop(node_edgelist.index)\n",
    "        node_edgelist_shuffled = rewire_shuffle_node_edgelist(node_edgelist, node, random_state)\n",
    "        nodes_shuffled_list_df.append(node_edgelist_shuffled)\n",
    "    node_edgelist_shuffled = pd.concat(nodes_shuffled_list_df)\n",
    "    node_edgelist_shuffled.reset_index(inplace=True, drop=True)\n",
    "    return node_edgelist_shuffled"
   ]
  },
  {
   "cell_type": "code",
   "execution_count": 27,
   "id": "91d5ce43",
   "metadata": {},
   "outputs": [
    {
     "data": {
      "text/html": [
       "<div>\n",
       "<style scoped>\n",
       "    .dataframe tbody tr th:only-of-type {\n",
       "        vertical-align: middle;\n",
       "    }\n",
       "\n",
       "    .dataframe tbody tr th {\n",
       "        vertical-align: top;\n",
       "    }\n",
       "\n",
       "    .dataframe thead th {\n",
       "        text-align: right;\n",
       "    }\n",
       "</style>\n",
       "<table border=\"1\" class=\"dataframe\">\n",
       "  <thead>\n",
       "    <tr style=\"text-align: right;\">\n",
       "      <th></th>\n",
       "      <th>from</th>\n",
       "      <th>to</th>\n",
       "      <th>t_second</th>\n",
       "    </tr>\n",
       "  </thead>\n",
       "  <tbody>\n",
       "    <tr>\n",
       "      <th>0</th>\n",
       "      <td>1</td>\n",
       "      <td>3</td>\n",
       "      <td>300</td>\n",
       "    </tr>\n",
       "    <tr>\n",
       "      <th>1</th>\n",
       "      <td>3</td>\n",
       "      <td>2</td>\n",
       "      <td>100</td>\n",
       "    </tr>\n",
       "    <tr>\n",
       "      <th>2</th>\n",
       "      <td>2</td>\n",
       "      <td>1</td>\n",
       "      <td>200</td>\n",
       "    </tr>\n",
       "  </tbody>\n",
       "</table>\n",
       "</div>"
      ],
      "text/plain": [
       "  from to t_second\n",
       "0    1  3      300\n",
       "1    3  2      100\n",
       "2    2  1      200"
      ]
     },
     "execution_count": 27,
     "metadata": {},
     "output_type": "execute_result"
    }
   ],
   "source": [
    "df_edges = pd.DataFrame({'from': [1, 2, 3], 'to': [3, 1, 2], 't_second': [100, 200, 300]})\n",
    "rewire_shuffle_timestamps_at_nodes(df_edges, random_state=42)"
   ]
  },
  {
   "cell_type": "markdown",
   "id": "d7b220d9",
   "metadata": {},
   "source": [
    "# Link-based shuffling (resampling)"
   ]
  },
  {
   "cell_type": "code",
   "execution_count": 3,
   "id": "30b27da2",
   "metadata": {},
   "outputs": [],
   "source": [
    "def create_link_edgelist(edgelist, node_id_1, node_id_2):\n",
    "    \"\"\"\n",
    "    Creates an edge list for edges between two specified nodes.\n",
    "    \n",
    "    Parameters:\n",
    "    - edgelist (pd.DataFrame): The complete edge list with 'from' and 'to' columns.\n",
    "    - node_id_1: Identifier for the first node.\n",
    "    - node_id_2: Identifier for the second node.\n",
    "    \n",
    "    Returns:\n",
    "    - pd.DataFrame: A dataframe containing only the edges between the specified nodes.\n",
    "    \"\"\"\n",
    "    edgelist = edgelist.copy()\n",
    "    link_edgelist = edgelist[((edgelist['from'].astype(str) == str(node_id_1)) & (edgelist['to'].astype(str) == str(node_id_2))) | ((edgelist['from'].astype(str) == str(node_id_2)) & (edgelist['to'].astype(str) == str(node_id_1)))]\n",
    "    return link_edgelist"
   ]
  },
  {
   "cell_type": "code",
   "execution_count": 5,
   "id": "192cdd00",
   "metadata": {},
   "outputs": [
    {
     "data": {
      "text/html": [
       "<div>\n",
       "<style scoped>\n",
       "    .dataframe tbody tr th:only-of-type {\n",
       "        vertical-align: middle;\n",
       "    }\n",
       "\n",
       "    .dataframe tbody tr th {\n",
       "        vertical-align: top;\n",
       "    }\n",
       "\n",
       "    .dataframe thead th {\n",
       "        text-align: right;\n",
       "    }\n",
       "</style>\n",
       "<table border=\"1\" class=\"dataframe\">\n",
       "  <thead>\n",
       "    <tr style=\"text-align: right;\">\n",
       "      <th></th>\n",
       "      <th>from</th>\n",
       "      <th>to</th>\n",
       "      <th>t_second</th>\n",
       "    </tr>\n",
       "  </thead>\n",
       "  <tbody>\n",
       "    <tr>\n",
       "      <th>0</th>\n",
       "      <td>1</td>\n",
       "      <td>4</td>\n",
       "      <td>100</td>\n",
       "    </tr>\n",
       "    <tr>\n",
       "      <th>3</th>\n",
       "      <td>1</td>\n",
       "      <td>4</td>\n",
       "      <td>400</td>\n",
       "    </tr>\n",
       "  </tbody>\n",
       "</table>\n",
       "</div>"
      ],
      "text/plain": [
       "   from  to  t_second\n",
       "0     1   4       100\n",
       "3     1   4       400"
      ]
     },
     "execution_count": 5,
     "metadata": {},
     "output_type": "execute_result"
    }
   ],
   "source": [
    "edgelist = pd.DataFrame({'from': [1, 2, 3,1], 'to': [4, 5, 6,4], 't_second': [100, 200, 300,400]})\n",
    "create_link_edgelist(edgelist, 1, 4)"
   ]
  },
  {
   "cell_type": "code",
   "execution_count": 7,
   "id": "eebadf50",
   "metadata": {},
   "outputs": [],
   "source": [
    "def shuffle_link_edgelist(link_edgelist, random_state):\n",
    "    \"\"\"\n",
    "    Shuffles the timestamps of edges in a link edge list.\n",
    "    \n",
    "    Parameters:\n",
    "    - link_edgelist (pd.DataFrame): The edge list of links between two specific nodes.\n",
    "    - random_state (int): Seed for randomness to ensure reproducibility.\n",
    "    \n",
    "    Returns:\n",
    "    - pd.DataFrame: The link edge list with shuffled timestamps.\n",
    "    \n",
    "    Example:\n",
    "    >>> link_edgelist = pd.DataFrame({'from': ['1', '4'], 'to': ['4', '1'], 't_second': ['100', '200']})\n",
    "    >>> shuffle_link_edgelist(link_edgelist, random_state=42)\n",
    "    \"\"\"\n",
    "    link_edgelist = link_edgelist.copy()\n",
    "    link_edgelist['t_second'] = link_edgelist['t_second'].sample(frac=1, random_state=random_state + 6000).values\n",
    "    return link_edgelist"
   ]
  },
  {
   "cell_type": "code",
   "execution_count": 22,
   "id": "d2ac06c1",
   "metadata": {},
   "outputs": [
    {
     "data": {
      "text/html": [
       "<div>\n",
       "<style scoped>\n",
       "    .dataframe tbody tr th:only-of-type {\n",
       "        vertical-align: middle;\n",
       "    }\n",
       "\n",
       "    .dataframe tbody tr th {\n",
       "        vertical-align: top;\n",
       "    }\n",
       "\n",
       "    .dataframe thead th {\n",
       "        text-align: right;\n",
       "    }\n",
       "</style>\n",
       "<table border=\"1\" class=\"dataframe\">\n",
       "  <thead>\n",
       "    <tr style=\"text-align: right;\">\n",
       "      <th></th>\n",
       "      <th>from</th>\n",
       "      <th>to</th>\n",
       "      <th>t_second</th>\n",
       "    </tr>\n",
       "  </thead>\n",
       "  <tbody>\n",
       "    <tr>\n",
       "      <th>0</th>\n",
       "      <td>1</td>\n",
       "      <td>4</td>\n",
       "      <td>100</td>\n",
       "    </tr>\n",
       "    <tr>\n",
       "      <th>1</th>\n",
       "      <td>4</td>\n",
       "      <td>1</td>\n",
       "      <td>200</td>\n",
       "    </tr>\n",
       "    <tr>\n",
       "      <th>2</th>\n",
       "      <td>1</td>\n",
       "      <td>4</td>\n",
       "      <td>300</td>\n",
       "    </tr>\n",
       "  </tbody>\n",
       "</table>\n",
       "</div>"
      ],
      "text/plain": [
       "  from to t_second\n",
       "0    1  4      100\n",
       "1    4  1      200\n",
       "2    1  4      300"
      ]
     },
     "execution_count": 22,
     "metadata": {},
     "output_type": "execute_result"
    }
   ],
   "source": [
    "link_edgelist = pd.DataFrame({'from': ['1', '4','1'], 'to': ['4', '1','4'], 't_second': ['100', '200','300']})\n",
    "shuffle_link_edgelist(link_edgelist, random_state=42)"
   ]
  },
  {
   "cell_type": "code",
   "execution_count": 19,
   "id": "c45f99d3",
   "metadata": {},
   "outputs": [],
   "source": [
    "def shuffle_timestamps_on_links(df_edges, random_state):\n",
    "    \"\"\"\n",
    "    Shuffles timestamps for all link edges in the edge list.\n",
    "    \n",
    "    Parameters:\n",
    "    - df_edges (pd.DataFrame): The complete edge list.\n",
    "    - random_state (int): Seed for randomness to ensure reproducibility.\n",
    "    \n",
    "    Returns:\n",
    "    - pd.DataFrame: The edge list with timestamps shuffled for each link.\n",
    "    \n",
    "    Example:\n",
    "    >>> df_edges = pd.DataFrame({'from': [1, 2, 3], 'to': [3, 1, 2], 't_second': [100, 200, 300]})\n",
    "    >>> shuffle_timestamps_on_links(df_edges, random_state=42)\n",
    "    \"\"\"\n",
    "    df_edges = df_edges.copy()\n",
    "    nodes, unique_pairs = nodes_unique_pairs(df_edges)\n",
    "    all_links_list_df = []\n",
    "    for pair in unique_pairs:\n",
    "        link_edgelist = create_link_edgelist(df_edges, pair[0], pair[1])\n",
    "        link_edgelist_shuffled = shuffle_link_edgelist(link_edgelist, random_state)\n",
    "        all_links_list_df.append(link_edgelist)\n",
    "    link_edgelist_shuffled = pd.concat(all_links_list_df)\n",
    "    link_edgelist_shuffled.reset_index(inplace=True, drop=True)\n",
    "    link_edgelist_shuffled.drop_duplicates(inplace=True)\n",
    "    return link_edgelist_shuffled\n"
   ]
  },
  {
   "cell_type": "code",
   "execution_count": 20,
   "id": "ee5c666c",
   "metadata": {},
   "outputs": [
    {
     "data": {
      "text/html": [
       "<div>\n",
       "<style scoped>\n",
       "    .dataframe tbody tr th:only-of-type {\n",
       "        vertical-align: middle;\n",
       "    }\n",
       "\n",
       "    .dataframe tbody tr th {\n",
       "        vertical-align: top;\n",
       "    }\n",
       "\n",
       "    .dataframe thead th {\n",
       "        text-align: right;\n",
       "    }\n",
       "</style>\n",
       "<table border=\"1\" class=\"dataframe\">\n",
       "  <thead>\n",
       "    <tr style=\"text-align: right;\">\n",
       "      <th></th>\n",
       "      <th>from</th>\n",
       "      <th>to</th>\n",
       "      <th>t_second</th>\n",
       "    </tr>\n",
       "  </thead>\n",
       "  <tbody>\n",
       "    <tr>\n",
       "      <th>0</th>\n",
       "      <td>1</td>\n",
       "      <td>3</td>\n",
       "      <td>100</td>\n",
       "    </tr>\n",
       "    <tr>\n",
       "      <th>1</th>\n",
       "      <td>3</td>\n",
       "      <td>1</td>\n",
       "      <td>300</td>\n",
       "    </tr>\n",
       "    <tr>\n",
       "      <th>4</th>\n",
       "      <td>2</td>\n",
       "      <td>1</td>\n",
       "      <td>200</td>\n",
       "    </tr>\n",
       "  </tbody>\n",
       "</table>\n",
       "</div>"
      ],
      "text/plain": [
       "   from  to  t_second\n",
       "0     1   3       100\n",
       "1     3   1       300\n",
       "4     2   1       200"
      ]
     },
     "execution_count": 20,
     "metadata": {},
     "output_type": "execute_result"
    }
   ],
   "source": [
    "df_edges = pd.DataFrame({'from': [1, 2, 3], 'to': [3, 1, 1], 't_second': [100, 200, 300]})\n",
    "shuffle_timestamps_on_links(df_edges, random_state=42)"
   ]
  }
 ],
 "metadata": {
  "kernelspec": {
   "display_name": "Python 3 (ipykernel)",
   "language": "python",
   "name": "python3"
  },
  "language_info": {
   "codemirror_mode": {
    "name": "ipython",
    "version": 3
   },
   "file_extension": ".py",
   "mimetype": "text/x-python",
   "name": "python",
   "nbconvert_exporter": "python",
   "pygments_lexer": "ipython3",
   "version": "3.8.11"
  }
 },
 "nbformat": 4,
 "nbformat_minor": 5
}
